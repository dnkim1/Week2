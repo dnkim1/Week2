{
 "cells": [
  {
   "cell_type": "markdown",
   "source": "<a href=\"https://colab.research.google.com/github/BeaverWorksMedlytics2020/Week2/blob/master/Notebooks/05_NeuralNetworks/NeuralNetworks_Tutorial_part1.ipynb\" target=\"_parent\"><img src=\"https://colab.research.google.com/assets/colab-badge.svg\" alt=\"Open In Colab\"/></a>",
   "metadata": {
    "id": "view-in-github",
    "colab_type": "text",
    "cell_id": "8986b53d-59c5-44a6-8cfd-2a004438c460",
    "deepnote_cell_type": "markdown",
    "deepnote_cell_height": 70
   }
  },
  {
   "cell_type": "markdown",
   "source": "## Building a Simple Neural Network with Tensorflow Keras\n\nIn this notebook we are going to walk through building a simple neural network to classify sequence data. This tutorial will be meant as a fast overview of building/training neural networks with Keras.",
   "metadata": {
    "id": "PlpG_fIiqdJU",
    "colab_type": "text",
    "cell_id": "00001-c280fa4d-0484-4382-9e9b-60a80ff25b23",
    "deepnote_cell_type": "markdown",
    "deepnote_cell_height": 130.78125
   }
  },
  {
   "cell_type": "code",
   "metadata": {
    "id": "eFSzOvSduDf8",
    "colab_type": "code",
    "colab": {
     "base_uri": "https://localhost:8080/",
     "height": 34
    },
    "outputId": "61c63452-faa5-499b-852b-080a0a7b6c0a",
    "cell_id": "00002-1469fffd-d8ec-4c44-97de-7eae8289c29f",
    "deepnote_to_be_reexecuted": false,
    "source_hash": "799af7d0",
    "execution_start": 1658345986204,
    "execution_millis": 6941,
    "deepnote_cell_type": "code",
    "deepnote_cell_height": 441
   },
   "source": "# Import useful libraries\n\n#Needed for terminal functions (i.e. wget)\nimport os\n\n#For plotting\nimport matplotlib.pyplot as plt\n\n#For dataframe manipulation\nimport pandas as pd\n\n#For data preprocessing\nfrom sklearn.preprocessing import StandardScaler #Use StandardScaler from scikitlearn\nfrom sklearn.utils import shuffle #Used to shuffle up examples before training\n\n#Keras-related imports\nfrom keras.models import Sequential  #we will build our models layer by layer\nfrom keras.layers import Dense  #we want to use dense layers in our model\n\n#Keras is built on top of tensorflow library\nimport tensorflow as tf #tf has many helpful functions for training networks like loss functions, optimization methods, etc.",
   "execution_count": null,
   "outputs": []
  },
  {
   "cell_type": "code",
   "metadata": {
    "id": "Ep_09mlyqa5G",
    "colab_type": "code",
    "colab": {
     "base_uri": "https://localhost:8080/",
     "height": 34
    },
    "outputId": "2fea20bb-a35c-40a4-e329-13dc1d796926",
    "cell_id": "00003-bc716894-8cd7-4505-931e-be36b2fcd8ab",
    "deepnote_to_be_reexecuted": false,
    "source_hash": "13fd0ae6",
    "execution_start": 1658345993153,
    "execution_millis": 484,
    "deepnote_cell_type": "code",
    "deepnote_cell_height": 136.1875
   },
   "source": "#Load the dataframe that contains all features calculated in the last notebook (only run once)\nos.system('wget https://raw.githubusercontent.com/BeaverWorksMedlytics2020/Data_Public/master/NotebookExampleData/Week2/spoken_digit_manual_features.csv')",
   "execution_count": null,
   "outputs": [
    {
     "output_type": "execute_result",
     "execution_count": 2,
     "data": {
      "text/plain": "0"
     },
     "metadata": {}
    }
   ]
  },
  {
   "cell_type": "markdown",
   "source": "## Load Training Data",
   "metadata": {
    "id": "zChcGaqVysRB",
    "colab_type": "text",
    "cell_id": "00004-543822cc-b987-433e-9bde-09724f9cad0a",
    "deepnote_cell_type": "markdown",
    "deepnote_cell_height": 70
   }
  },
  {
   "cell_type": "code",
   "metadata": {
    "id": "SVwsmOGvw7jp",
    "colab_type": "code",
    "colab": {
     "base_uri": "https://localhost:8080/",
     "height": 255
    },
    "outputId": "8cc4a4d8-7200-494b-951c-8ced02534ac3",
    "cell_id": "00005-00b9c089-3fe1-45c7-96c2-fb87a7ca18b5",
    "deepnote_to_be_reexecuted": false,
    "source_hash": "35ce5b77",
    "execution_start": 1658345993289,
    "execution_millis": 368,
    "deepnote_cell_type": "code",
    "deepnote_cell_height": 832.875
   },
   "source": "#Load dataframe and print its contents to jog memory\nspoken_df = pd.read_csv('spoken_digit_manual_features.csv', index_col = 0)\nprint(spoken_df.head(10))\nprint('\\n')\n\n#Check how many unique speakers exist in the dataset\nspeakers=set(spoken_df['speaker'])\nprint(f'There are {len(speakers)} unique speakers in the dataset')\n\n# Our goal for this is to build a neural network that learns to classify which\n# of 5 speakers is recorded in a sample based on the features:\n# spectral centroid, spectral flatness, and maximum frequency\n",
   "execution_count": null,
   "outputs": [
    {
     "name": "stdout",
     "text": "                file  digit   speaker  trial           SC        SF  \\\n0   5_yweweler_8.wav      5  yweweler      8  1029.497959  0.397336   \n1    3_george_49.wav      3    george      4  1881.296834  0.387050   \n2  9_yweweler_44.wav      9  yweweler      4  1093.951856  0.394981   \n3  8_yweweler_33.wav      8  yweweler      3  1409.543285  0.487496   \n4      7_theo_34.wav      7      theo      3   887.361601  0.396825   \n5   1_jackson_45.wav      1   jackson      4  1007.568129  0.324100   \n6  6_yweweler_18.wav      6  yweweler      1  1286.701352  0.498813   \n7    9_george_35.wav      9    george      3  1405.092061  0.353083   \n8   9_jackson_32.wav      9   jackson      3  1172.899961  0.477907   \n9    8_george_26.wav      8    george      2  1959.977577  0.462901   \n\n           MF  \n0  745.878340  \n1  323.943662  \n2  244.648318  \n3  392.350401  \n4  130.640309  \n5  216.306156  \n6  400.715564  \n7  447.239693  \n8  114.892780  \n9  320.537966  \n\n\nThere are 5 unique speakers in the dataset\n",
     "output_type": "stream"
    }
   ]
  },
  {
   "cell_type": "markdown",
   "source": "## Structure Neural Network",
   "metadata": {
    "id": "riycN8SdyxNT",
    "colab_type": "text",
    "cell_id": "00006-5449169e-1c0c-4122-8f2d-b904a56f678f",
    "deepnote_cell_type": "markdown",
    "deepnote_cell_height": 70
   }
  },
  {
   "cell_type": "code",
   "metadata": {
    "id": "qMp_z7W9vZV4",
    "colab_type": "code",
    "colab": {},
    "cell_id": "00007-502d5c01-d511-46d3-b9e8-5881f34915f5",
    "deepnote_to_be_reexecuted": false,
    "source_hash": "6ba8b094",
    "execution_start": 1658345993317,
    "execution_millis": 460,
    "deepnote_cell_type": "code",
    "deepnote_cell_height": 333
   },
   "source": "# Build the keras neural network\n\n#this allows us to add layers sequentially (i.e. first->last)\nmodel = tf.keras.Sequential()\n\n#create a first layer of 12 neurons, and a rectified linear unit activation function\nmodel.add(tf.keras.layers.Dense(8, input_shape=(3,), activation=tf.nn.relu)) #input dimension needs to be number of features\n\n#add two dense layers with 8 units each\n#(note that we don't need to specify input size because keras determines input size from previous layer)\nmodel.add(tf.keras.layers.Dense(8, activation=tf.nn.relu))\nmodel.add(tf.keras.layers.Dense(8, activation=tf.nn.relu))\n\n# output dimension needs to be number of classes in order for each to get a score\nmodel.add(tf.keras.layers.Dense(5, activation=tf.nn.softmax)) ",
   "execution_count": null,
   "outputs": []
  },
  {
   "cell_type": "markdown",
   "source": "## Specify a Loss Function and an Optimizer for NN Model\n\nLet's describe why each of these components is necessary, and how it is used in training a neural network.\n\n**Loss Function** - This is the quantity that should be minimized when the network is trained. (It is like the mean squared error for a linear regression.) A neural network can use squared error as a loss function, but there are also other options. In the case of a neural network trying to classify samples into 1 of n categories system a common choice is called cross entropy loss.\n\n**Optimizer** - When a neural network is trained, it changes weights in the network to minimize the loss function. The optimizer governs how the neural network iteratively changes its weights as it minimizes loss. Many optimizers use the derivative of the loss function with respect to all the weights to decide which direction to change network weights.",
   "metadata": {
    "id": "9p9UDYX-y_v9",
    "colab_type": "text",
    "cell_id": "00008-0c47b12c-49dd-4658-8b61-39bff4759575",
    "deepnote_cell_type": "markdown",
    "deepnote_cell_height": 270.734375
   }
  },
  {
   "cell_type": "code",
   "metadata": {
    "id": "fKRMZVOkyoUP",
    "colab_type": "code",
    "colab": {},
    "cell_id": "00009-c1c4c0d8-aab1-489c-9c22-a12875cbb0ae",
    "deepnote_to_be_reexecuted": false,
    "source_hash": "c6c76eb4",
    "execution_start": 1658345993784,
    "execution_millis": 3,
    "deepnote_cell_type": "code",
    "deepnote_cell_height": 153
   },
   "source": "#Specify a loss function for our network\n\n#Note that the metrics input argument governs what will be reported as the network is trained \nmodel.compile(loss = tf.keras.losses.categorical_crossentropy, optimizer = tf.keras.optimizers.Adam(learning_rate=0.01) , metrics = ['accuracy'])\n",
   "execution_count": null,
   "outputs": []
  },
  {
   "cell_type": "markdown",
   "source": "## Convert Labels into \"Onehot\" Vectors\n\nPredictions output by the model need to be compared to some truth label. Currently, the model predicts a 5-element vector of \"prediction values\" for every sample. The truth labels thus need to be converted to a 5-element vector with a 1 in the correct index and zeros in all others",
   "metadata": {
    "id": "xgP9AW_KSDuy",
    "colab_type": "text",
    "cell_id": "00010-a56ab89c-6081-43ba-889f-b49e19f5c922",
    "deepnote_cell_type": "markdown",
    "deepnote_cell_height": 153.171875
   }
  },
  {
   "cell_type": "code",
   "metadata": {
    "id": "Ix3lG15TSo42",
    "colab_type": "code",
    "colab": {},
    "cell_id": "00011-bedc268d-1c25-4612-897d-9faf36649664",
    "deepnote_to_be_reexecuted": false,
    "source_hash": "26e8948e",
    "execution_start": 1658345993791,
    "execution_millis": 3,
    "deepnote_cell_type": "code",
    "deepnote_cell_height": 189
   },
   "source": "#make dictionary to convert from speaker names to indices\nname2int_dict = {name: ind for (ind, name) in enumerate(set(spoken_df['speaker']))}\n\ny_labels = spoken_df['speaker']\n#set y_labels to be indices of speaker\ny_labels = [name2int_dict[name] for name in y_labels]\n",
   "execution_count": null,
   "outputs": []
  },
  {
   "cell_type": "markdown",
   "source": "## Standardize Data and split into train/validation/test sets\n\nScaling data is generally good practice before attempting to fit a model. Having inputs with large differences in scale can affect how the optimizer changes weights to minimize the loss function",
   "metadata": {
    "id": "uegmriZU29sA",
    "colab_type": "text",
    "cell_id": "00012-70168eeb-3303-4074-8be3-25444c0eb60c",
    "deepnote_cell_type": "markdown",
    "deepnote_cell_height": 130.78125
   }
  },
  {
   "cell_type": "code",
   "metadata": {
    "id": "HM-ON_x930fu",
    "colab_type": "code",
    "colab": {},
    "cell_id": "00013-91d5a6a6-a75c-4afd-b242-659de35d6db5",
    "deepnote_to_be_reexecuted": false,
    "source_hash": "6de1e3a5",
    "execution_start": 1658345993797,
    "execution_millis": 15,
    "deepnote_cell_type": "code",
    "deepnote_cell_height": 549
   },
   "source": "#downselect to only the 3 columns of the dataset we are learning from\nX_data = spoken_df[['SC', 'SF', 'MF']].to_numpy()\n\n#Decide how large to make validation and test sets\nn_val = 250\nn_test = 250\n\n#Shuffle data before partitioning\nX_data, y_labels = shuffle(X_data, y_labels, random_state = 25)\n\n#Partition\nX_data_test, y_labels_test = X_data[:n_test,:], y_labels[:n_test]\nX_data_val, y_labels_val = X_data[n_test:n_test+n_val,:], y_labels[n_test:n_test+n_val]\nX_data_train, y_labels_train = X_data[n_test+n_val:,:], y_labels[n_test+n_val:]\n\n#Scale data\nscaler = StandardScaler()\nX_data_train=scaler.fit_transform(X_data_train)\nX_data_val = scaler.transform(X_data_val)\nX_data_test = scaler.transform(X_data_test)\n\n#convert labels to onehot\ny_labels_train = tf.keras.utils.to_categorical(y_labels_train, 5)\ny_labels_val =  tf.keras.utils.to_categorical(y_labels_val, 5)\ny_labels_test =  tf.keras.utils.to_categorical(y_labels_test, 5)\n\ntraining_set = tf.data.Dataset.from_tensor_slices((X_data_train, y_labels_train))",
   "execution_count": null,
   "outputs": []
  },
  {
   "cell_type": "markdown",
   "source": "## Fit Model to Data, Specify Number of Epochs and Batch Size\n\n**Batch Size** - In each iteration of the optimizer, how many samples are taken into account when calculating derivatives of the loss function? (If batch size is less than number of samples, there will be multiple optimization iterations per epoch.)\n\n**Epochs** - How many times should the data be passed through before optimization is finished?",
   "metadata": {
    "id": "DnDGqneBOsW_",
    "colab_type": "text",
    "cell_id": "00014-fe53887a-9e73-4a8a-a798-b15b2417d1e6",
    "deepnote_cell_type": "markdown",
    "deepnote_cell_height": 167.171875
   }
  },
  {
   "cell_type": "code",
   "metadata": {
    "id": "nkeUHhxZ3iOF",
    "colab_type": "code",
    "colab": {
     "base_uri": "https://localhost:8080/",
     "height": 1000
    },
    "outputId": "fd52264a-8db8-4abf-85e4-da0bf7a8c2b1",
    "cell_id": "00015-4ca782a7-16f5-4a4b-84f2-cc4ea69f43e3",
    "deepnote_to_be_reexecuted": false,
    "source_hash": "6de8a191",
    "execution_start": 1658345993814,
    "execution_millis": 8349,
    "deepnote_cell_type": "code",
    "deepnote_cell_height": 917
   },
   "source": "epochs = 50\nbatch_size = 100\n\ntraining_set = training_set.batch(batch_size) #set batch size\n\nfor epoch in range(epochs):\n    for signals, labels in training_set:\n        tr_loss, tr_accuracy = model.train_on_batch(signals, labels)\n    val_loss, val_accuracy = model.evaluate(X_data_val, y_labels_val)\n    print(('Epoch #%d\\t Training Loss: %.2f\\tTraining Accuracy: %.2f\\t'\n         'Validation Loss: %.2f\\tValidation Accuracy: %.2f')\n         % (epoch + 1, tr_loss, tr_accuracy,\n         val_loss, val_accuracy))",
   "execution_count": null,
   "outputs": [
    {
     "name": "stdout",
     "text": "8/8 [==============================] - 0s 2ms/step - loss: 1.5615 - accuracy: 0.2440\nEpoch #1\t Training Loss: 1.57\tTraining Accuracy: 0.24\tValidation Loss: 1.56\tValidation Accuracy: 0.24\n8/8 [==============================] - 0s 1ms/step - loss: 1.4491 - accuracy: 0.3840\nEpoch #2\t Training Loss: 1.46\tTraining Accuracy: 0.38\tValidation Loss: 1.45\tValidation Accuracy: 0.38\n8/8 [==============================] - 0s 1ms/step - loss: 1.3984 - accuracy: 0.3880\nEpoch #3\t Training Loss: 1.33\tTraining Accuracy: 0.37\tValidation Loss: 1.40\tValidation Accuracy: 0.39\n8/8 [==============================] - 0s 1ms/step - loss: 1.2812 - accuracy: 0.4880\nEpoch #4\t Training Loss: 1.21\tTraining Accuracy: 0.47\tValidation Loss: 1.28\tValidation Accuracy: 0.49\n8/8 [==============================] - 0s 1ms/step - loss: 1.1968 - accuracy: 0.5320\nEpoch #5\t Training Loss: 1.10\tTraining Accuracy: 0.52\tValidation Loss: 1.20\tValidation Accuracy: 0.53\n8/8 [==============================] - 0s 2ms/step - loss: 1.1321 - accuracy: 0.5800\nEpoch #6\t Training Loss: 1.06\tTraining Accuracy: 0.55\tValidation Loss: 1.13\tValidation Accuracy: 0.58\n8/8 [==============================] - 0s 1ms/step - loss: 1.0999 - accuracy: 0.6000\nEpoch #7\t Training Loss: 1.04\tTraining Accuracy: 0.54\tValidation Loss: 1.10\tValidation Accuracy: 0.60\n8/8 [==============================] - 0s 1ms/step - loss: 1.0835 - accuracy: 0.6040\nEpoch #8\t Training Loss: 1.03\tTraining Accuracy: 0.51\tValidation Loss: 1.08\tValidation Accuracy: 0.60\n8/8 [==============================] - 0s 1ms/step - loss: 1.0749 - accuracy: 0.6120\nEpoch #9\t Training Loss: 1.03\tTraining Accuracy: 0.50\tValidation Loss: 1.07\tValidation Accuracy: 0.61\n8/8 [==============================] - 0s 2ms/step - loss: 1.0658 - accuracy: 0.6040\nEpoch #10\t Training Loss: 1.03\tTraining Accuracy: 0.54\tValidation Loss: 1.07\tValidation Accuracy: 0.60\n8/8 [==============================] - 0s 1ms/step - loss: 1.0564 - accuracy: 0.5960\nEpoch #11\t Training Loss: 1.03\tTraining Accuracy: 0.54\tValidation Loss: 1.06\tValidation Accuracy: 0.60\n8/8 [==============================] - 0s 1ms/step - loss: 1.0371 - accuracy: 0.5960\nEpoch #12\t Training Loss: 1.02\tTraining Accuracy: 0.56\tValidation Loss: 1.04\tValidation Accuracy: 0.60\n8/8 [==============================] - 0s 1ms/step - loss: 1.0260 - accuracy: 0.5960\nEpoch #13\t Training Loss: 1.01\tTraining Accuracy: 0.53\tValidation Loss: 1.03\tValidation Accuracy: 0.60\n8/8 [==============================] - 0s 2ms/step - loss: 1.0195 - accuracy: 0.6120\nEpoch #14\t Training Loss: 1.01\tTraining Accuracy: 0.54\tValidation Loss: 1.02\tValidation Accuracy: 0.61\n8/8 [==============================] - 0s 2ms/step - loss: 1.0137 - accuracy: 0.6160\nEpoch #15\t Training Loss: 1.01\tTraining Accuracy: 0.54\tValidation Loss: 1.01\tValidation Accuracy: 0.62\n8/8 [==============================] - 0s 1ms/step - loss: 1.0107 - accuracy: 0.6240\nEpoch #16\t Training Loss: 1.01\tTraining Accuracy: 0.53\tValidation Loss: 1.01\tValidation Accuracy: 0.62\n8/8 [==============================] - 0s 1ms/step - loss: 1.0065 - accuracy: 0.6160\nEpoch #17\t Training Loss: 1.01\tTraining Accuracy: 0.54\tValidation Loss: 1.01\tValidation Accuracy: 0.62\n8/8 [==============================] - 0s 2ms/step - loss: 1.0036 - accuracy: 0.6200\nEpoch #18\t Training Loss: 1.01\tTraining Accuracy: 0.55\tValidation Loss: 1.00\tValidation Accuracy: 0.62\n8/8 [==============================] - 0s 1ms/step - loss: 0.9990 - accuracy: 0.6280\nEpoch #19\t Training Loss: 1.01\tTraining Accuracy: 0.54\tValidation Loss: 1.00\tValidation Accuracy: 0.63\n8/8 [==============================] - 0s 1ms/step - loss: 0.9869 - accuracy: 0.6160\nEpoch #20\t Training Loss: 1.00\tTraining Accuracy: 0.55\tValidation Loss: 0.99\tValidation Accuracy: 0.62\n8/8 [==============================] - 0s 1ms/step - loss: 0.9842 - accuracy: 0.6240\nEpoch #21\t Training Loss: 0.99\tTraining Accuracy: 0.52\tValidation Loss: 0.98\tValidation Accuracy: 0.62\n8/8 [==============================] - 0s 1ms/step - loss: 0.9802 - accuracy: 0.6160\nEpoch #22\t Training Loss: 0.99\tTraining Accuracy: 0.52\tValidation Loss: 0.98\tValidation Accuracy: 0.62\n8/8 [==============================] - 0s 2ms/step - loss: 0.9753 - accuracy: 0.6080\nEpoch #23\t Training Loss: 0.99\tTraining Accuracy: 0.52\tValidation Loss: 0.98\tValidation Accuracy: 0.61\n8/8 [==============================] - 0s 1ms/step - loss: 0.9694 - accuracy: 0.6120\nEpoch #24\t Training Loss: 0.99\tTraining Accuracy: 0.52\tValidation Loss: 0.97\tValidation Accuracy: 0.61\n8/8 [==============================] - 0s 2ms/step - loss: 0.9646 - accuracy: 0.6160\nEpoch #25\t Training Loss: 0.98\tTraining Accuracy: 0.52\tValidation Loss: 0.96\tValidation Accuracy: 0.62\n8/8 [==============================] - 0s 1ms/step - loss: 0.9616 - accuracy: 0.6200\nEpoch #26\t Training Loss: 0.98\tTraining Accuracy: 0.53\tValidation Loss: 0.96\tValidation Accuracy: 0.62\n8/8 [==============================] - 0s 1ms/step - loss: 0.9560 - accuracy: 0.6120\nEpoch #27\t Training Loss: 0.98\tTraining Accuracy: 0.52\tValidation Loss: 0.96\tValidation Accuracy: 0.61\n8/8 [==============================] - 0s 2ms/step - loss: 0.9528 - accuracy: 0.6200\nEpoch #28\t Training Loss: 0.97\tTraining Accuracy: 0.53\tValidation Loss: 0.95\tValidation Accuracy: 0.62\n8/8 [==============================] - 0s 2ms/step - loss: 0.9493 - accuracy: 0.6240\nEpoch #29\t Training Loss: 0.97\tTraining Accuracy: 0.53\tValidation Loss: 0.95\tValidation Accuracy: 0.62\n8/8 [==============================] - 0s 1ms/step - loss: 0.9482 - accuracy: 0.6160\nEpoch #30\t Training Loss: 0.96\tTraining Accuracy: 0.55\tValidation Loss: 0.95\tValidation Accuracy: 0.62\n8/8 [==============================] - 0s 1ms/step - loss: 0.9417 - accuracy: 0.6160\nEpoch #31\t Training Loss: 0.96\tTraining Accuracy: 0.55\tValidation Loss: 0.94\tValidation Accuracy: 0.62\n8/8 [==============================] - 0s 1ms/step - loss: 0.9337 - accuracy: 0.6160\nEpoch #32\t Training Loss: 0.96\tTraining Accuracy: 0.56\tValidation Loss: 0.93\tValidation Accuracy: 0.62\n8/8 [==============================] - 0s 2ms/step - loss: 0.9407 - accuracy: 0.6200\nEpoch #33\t Training Loss: 0.95\tTraining Accuracy: 0.57\tValidation Loss: 0.94\tValidation Accuracy: 0.62\n8/8 [==============================] - 0s 2ms/step - loss: 0.9324 - accuracy: 0.6120\nEpoch #34\t Training Loss: 0.95\tTraining Accuracy: 0.57\tValidation Loss: 0.93\tValidation Accuracy: 0.61\n8/8 [==============================] - 0s 1ms/step - loss: 0.9267 - accuracy: 0.6200\nEpoch #35\t Training Loss: 0.94\tTraining Accuracy: 0.56\tValidation Loss: 0.93\tValidation Accuracy: 0.62\n8/8 [==============================] - 0s 1ms/step - loss: 0.9230 - accuracy: 0.6120\nEpoch #36\t Training Loss: 0.94\tTraining Accuracy: 0.57\tValidation Loss: 0.92\tValidation Accuracy: 0.61\n8/8 [==============================] - 0s 2ms/step - loss: 0.9211 - accuracy: 0.6160\nEpoch #37\t Training Loss: 0.94\tTraining Accuracy: 0.56\tValidation Loss: 0.92\tValidation Accuracy: 0.62\n8/8 [==============================] - 0s 2ms/step - loss: 0.9148 - accuracy: 0.6160\nEpoch #38\t Training Loss: 0.93\tTraining Accuracy: 0.56\tValidation Loss: 0.91\tValidation Accuracy: 0.62\n8/8 [==============================] - 0s 1ms/step - loss: 0.9110 - accuracy: 0.6120\nEpoch #39\t Training Loss: 0.93\tTraining Accuracy: 0.57\tValidation Loss: 0.91\tValidation Accuracy: 0.61\n8/8 [==============================] - 0s 1ms/step - loss: 0.9088 - accuracy: 0.6240\nEpoch #40\t Training Loss: 0.92\tTraining Accuracy: 0.56\tValidation Loss: 0.91\tValidation Accuracy: 0.62\n8/8 [==============================] - 0s 2ms/step - loss: 0.9026 - accuracy: 0.6160\nEpoch #41\t Training Loss: 0.92\tTraining Accuracy: 0.57\tValidation Loss: 0.90\tValidation Accuracy: 0.62\n8/8 [==============================] - 0s 1ms/step - loss: 0.9066 - accuracy: 0.6160\nEpoch #42\t Training Loss: 0.91\tTraining Accuracy: 0.58\tValidation Loss: 0.91\tValidation Accuracy: 0.62\n8/8 [==============================] - 0s 1ms/step - loss: 0.8996 - accuracy: 0.6200\nEpoch #43\t Training Loss: 0.92\tTraining Accuracy: 0.57\tValidation Loss: 0.90\tValidation Accuracy: 0.62\n8/8 [==============================] - 0s 1ms/step - loss: 0.9007 - accuracy: 0.6160\nEpoch #44\t Training Loss: 0.91\tTraining Accuracy: 0.57\tValidation Loss: 0.90\tValidation Accuracy: 0.62\n8/8 [==============================] - 0s 1ms/step - loss: 0.8928 - accuracy: 0.6120\nEpoch #45\t Training Loss: 0.91\tTraining Accuracy: 0.56\tValidation Loss: 0.89\tValidation Accuracy: 0.61\n8/8 [==============================] - 0s 1ms/step - loss: 0.8924 - accuracy: 0.6200\nEpoch #46\t Training Loss: 0.91\tTraining Accuracy: 0.57\tValidation Loss: 0.89\tValidation Accuracy: 0.62\n8/8 [==============================] - 0s 1ms/step - loss: 0.8861 - accuracy: 0.6240\nEpoch #47\t Training Loss: 0.91\tTraining Accuracy: 0.57\tValidation Loss: 0.89\tValidation Accuracy: 0.62\n8/8 [==============================] - 0s 1ms/step - loss: 0.8877 - accuracy: 0.6280\nEpoch #48\t Training Loss: 0.90\tTraining Accuracy: 0.57\tValidation Loss: 0.89\tValidation Accuracy: 0.63\n8/8 [==============================] - 0s 2ms/step - loss: 0.8819 - accuracy: 0.6240\nEpoch #49\t Training Loss: 0.90\tTraining Accuracy: 0.58\tValidation Loss: 0.88\tValidation Accuracy: 0.62\n8/8 [==============================] - 0s 1ms/step - loss: 0.8812 - accuracy: 0.6280\nEpoch #50\t Training Loss: 0.90\tTraining Accuracy: 0.58\tValidation Loss: 0.88\tValidation Accuracy: 0.63\n",
     "output_type": "stream"
    }
   ]
  },
  {
   "cell_type": "markdown",
   "source": "## Check Performance on Test Set\n\nWe can use model.predict to output predicted labels on the test set, or model.evaluate to determine test-set accuracy (since we have the labels)\n",
   "metadata": {
    "id": "OadIT5MEaOJA",
    "colab_type": "text",
    "cell_id": "00016-b8edcc82-7cbe-41cf-800b-07a7dba0da0a",
    "deepnote_cell_type": "markdown",
    "deepnote_cell_height": 130.78125
   }
  },
  {
   "cell_type": "code",
   "metadata": {
    "id": "Mr55MHYhafFa",
    "colab_type": "code",
    "colab": {
     "base_uri": "https://localhost:8080/",
     "height": 34
    },
    "outputId": "201332aa-9aca-4af8-e01f-d9fc101e8642",
    "cell_id": "00017-e5f79a29-6ac0-432d-a807-4e5f1aa393d1",
    "deepnote_to_be_reexecuted": false,
    "source_hash": "32af229b",
    "execution_start": 1658346001777,
    "execution_millis": 386,
    "deepnote_cell_type": "code",
    "deepnote_cell_height": 112.1875
   },
   "source": "test_loss, test_accuracy = model.evaluate(X_data_test, y_labels_test)",
   "execution_count": null,
   "outputs": [
    {
     "name": "stdout",
     "text": "8/8 [==============================] - 0s 1ms/step - loss: 0.9484 - accuracy: 0.5960\n",
     "output_type": "stream"
    }
   ]
  },
  {
   "cell_type": "markdown",
   "source": "<a style='text-decoration:none;line-height:16px;display:flex;color:#5B5B62;padding:10px;justify-content:end;' href='https://deepnote.com?utm_source=created-in-deepnote-cell&projectId=7001b069-2e6b-4b2b-882f-4faa1fb4a139' target=\"_blank\">\n<img alt='Created in deepnote.com' style='display:inline;max-height:16px;margin:0px;margin-right:7.5px;' src='data:image/svg+xml;base64,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' > </img>\nCreated in <span style='font-weight:600;margin-left:4px;'>Deepnote</span></a>",
   "metadata": {
    "tags": [],
    "created_in_deepnote_cell": true,
    "deepnote_cell_type": "markdown"
   }
  }
 ],
 "nbformat": 4,
 "nbformat_minor": 0,
 "metadata": {
  "colab": {
   "name": "NeuralNetworks_Tutorial_part1.ipynb",
   "provenance": [],
   "collapsed_sections": [],
   "include_colab_link": true
  },
  "kernelspec": {
   "name": "python3",
   "display_name": "Python 3"
  },
  "deepnote_notebook_id": "16b7cabf-3331-49bb-bb7c-a73cc45d580c",
  "deepnote": {},
  "deepnote_execution_queue": []
 }
}