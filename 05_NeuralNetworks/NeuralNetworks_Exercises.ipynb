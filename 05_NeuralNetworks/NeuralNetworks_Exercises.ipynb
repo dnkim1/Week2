{
 "cells": [
  {
   "cell_type": "markdown",
   "source": "# Neural Network Exercise\n\nIn this Exercise Notebook you will be building your own artificial neural network and seeing how adding different types of layers can affect the validation/testing accuracy. This is based off of the Simple Neural Network with Keras tutorial, so you can reference that for further explanations as well.",
   "metadata": {
    "id": "PlpG_fIiqdJU",
    "colab_type": "text",
    "cell_id": "d5c75da9-7699-45f1-8cf1-7f14fe9e724b",
    "deepnote_cell_type": "markdown",
    "deepnote_cell_height": 187.59375
   }
  },
  {
   "cell_type": "code",
   "metadata": {
    "id": "eFSzOvSduDf8",
    "colab_type": "code",
    "colab": {},
    "cell_id": "00001-dd27bd4b-edf5-40aa-8bca-64bf366af532",
    "deepnote_to_be_reexecuted": false,
    "source_hash": "9e6326f3",
    "execution_start": 1658350853778,
    "execution_millis": 7135,
    "deepnote_cell_type": "code",
    "deepnote_cell_height": 207
   },
   "source": "import os\nimport matplotlib.pyplot as plt\nimport pandas as pd\nfrom sklearn.preprocessing import StandardScaler\nfrom sklearn.utils import shuffle\nfrom keras.models import Sequential\nfrom keras.layers import Dense\nimport tensorflow as tf",
   "outputs": [],
   "execution_count": null
  },
  {
   "cell_type": "code",
   "metadata": {
    "id": "Ep_09mlyqa5G",
    "colab_type": "code",
    "colab": {},
    "cell_id": "00002-55f522ea-3751-4fa9-8735-5e5814d0472d",
    "deepnote_to_be_reexecuted": false,
    "source_hash": "7a6e8b1d",
    "execution_start": 1658350860924,
    "execution_millis": 769,
    "deepnote_cell_type": "code",
    "deepnote_cell_height": 118.1875,
    "deepnote_output_heights": [
     21.1875
    ]
   },
   "source": "os.system('wget https://raw.githubusercontent.com/BeaverWorksMedlytics2020/Data_Public/master/NotebookExampleData/Week2/spoken_digit_manual_features.csv')",
   "outputs": [
    {
     "output_type": "execute_result",
     "execution_count": 2,
     "data": {
      "text/plain": "0"
     },
     "metadata": {}
    }
   ],
   "execution_count": null
  },
  {
   "cell_type": "markdown",
   "source": "## Load Training Data and Pre-processed Features\n\nYour goal is to build a neural network that learns to classify which of the 5 speakers is recorded in a signal sample. Your prediction will be based off of features we've already pre-extracted for you and put into this CSV: spectral centroid `SC`, spectral flatness `SF`, and maximum frequency `MF`.",
   "metadata": {
    "id": "zChcGaqVysRB",
    "colab_type": "text",
    "cell_id": "00003-a433f1f2-6d25-42bc-927f-f26de88dfdca",
    "deepnote_cell_type": "markdown",
    "deepnote_cell_height": 193.1875
   }
  },
  {
   "cell_type": "code",
   "metadata": {
    "id": "SVwsmOGvw7jp",
    "colab_type": "code",
    "colab": {},
    "cell_id": "00004-3f3ae44f-a448-4a50-afd4-d59739b4f341",
    "deepnote_to_be_reexecuted": false,
    "source_hash": "acd4a82d",
    "execution_start": 1658352109264,
    "execution_millis": 2,
    "deepnote_cell_type": "code",
    "deepnote_cell_height": 730.078125
   },
   "source": "# Load csv containing raw data, labels, and pre-processed features\nspoken_df = pd.read_csv('spoken_digit_manual_features.csv', index_col = 0)\nprint(spoken_df.head(10))\nprint('\\n')\n\n# Set speakers\nspeakers = set(spoken_df['speaker'])\nprint(f'There are {len(speakers)} unique speakers in the dataset')",
   "outputs": [
    {
     "name": "stdout",
     "text": "                file  digit   speaker  trial           SC        SF  \\\n0   5_yweweler_8.wav      5  yweweler      8  1029.497959  0.397336   \n1    3_george_49.wav      3    george      4  1881.296834  0.387050   \n2  9_yweweler_44.wav      9  yweweler      4  1093.951856  0.394981   \n3  8_yweweler_33.wav      8  yweweler      3  1409.543285  0.487496   \n4      7_theo_34.wav      7      theo      3   887.361601  0.396825   \n5   1_jackson_45.wav      1   jackson      4  1007.568129  0.324100   \n6  6_yweweler_18.wav      6  yweweler      1  1286.701352  0.498813   \n7    9_george_35.wav      9    george      3  1405.092061  0.353083   \n8   9_jackson_32.wav      9   jackson      3  1172.899961  0.477907   \n9    8_george_26.wav      8    george      2  1959.977577  0.462901   \n\n           MF  \n0  745.878340  \n1  323.943662  \n2  244.648318  \n3  392.350401  \n4  130.640309  \n5  216.306156  \n6  400.715564  \n7  447.239693  \n8  114.892780  \n9  320.537966  \n\n\nThere are 5 unique speakers in the dataset\n",
     "output_type": "stream"
    }
   ],
   "execution_count": null
  },
  {
   "cell_type": "markdown",
   "source": "Converting labels to \"onehot\" vectors:",
   "metadata": {
    "id": "mArY7lB4Akv1",
    "colab_type": "text",
    "cell_id": "00005-5686ed82-8e09-4ec6-a6cb-28bebd2b6e48",
    "deepnote_cell_type": "markdown",
    "deepnote_cell_height": 52.390625
   }
  },
  {
   "cell_type": "code",
   "metadata": {
    "id": "nLRtFkiYAc3N",
    "colab_type": "code",
    "colab": {},
    "cell_id": "00006-92282bb0-5e8a-494e-ad1c-e06ff9d92044",
    "deepnote_to_be_reexecuted": false,
    "source_hash": "a29d6318",
    "execution_start": 1658352111452,
    "execution_millis": 2,
    "deepnote_cell_type": "code",
    "deepnote_cell_height": 171
   },
   "source": "# Make dictionary to convert from speaker names to indices\nname2int_dict = {name: ind for (ind, name) in enumerate(set(spoken_df['speaker']))}\n\ny_labels = spoken_df['speaker']\n# Set y_labels to be indices of speaker\ny_labels = [name2int_dict[name] for name in y_labels]",
   "outputs": [],
   "execution_count": null
  },
  {
   "cell_type": "markdown",
   "source": "Standardize data and split into train, validation, and test sets:",
   "metadata": {
    "id": "xUhDZMw1A93D",
    "colab_type": "text",
    "cell_id": "00007-d6bfd89a-0629-4824-ba3a-973c7eee48b8",
    "deepnote_cell_type": "markdown",
    "deepnote_cell_height": 52.390625
   }
  },
  {
   "cell_type": "code",
   "metadata": {
    "id": "TAuzw6ibA3Es",
    "colab_type": "code",
    "colab": {},
    "cell_id": "00008-754eefc0-2f99-4bb5-b51e-2918da68d669",
    "deepnote_to_be_reexecuted": false,
    "source_hash": "524f00d8",
    "execution_start": 1658352114774,
    "execution_millis": 11,
    "deepnote_cell_type": "code",
    "deepnote_cell_height": 549
   },
   "source": "# Downselect to only the 3 columns of the dataset we are learning from, aka the features\nX_data = spoken_df[['SC', 'SF', 'MF']].to_numpy()\n\n# Decide how large to make validation and test sets\nn_val = 250\nn_test = 250\n\n# Shuffle data before partitioning\nX_data, y_labels = shuffle(X_data, y_labels, random_state = 25)\n\n# Partition\nX_data_test, y_labels_test = X_data[:n_test,:], y_labels[:n_test]\nX_data_val, y_labels_val = X_data[n_test:n_test+n_val,:], y_labels[n_test:n_test+n_val]\nX_data_train, y_labels_train = X_data[n_test+n_val:,:], y_labels[n_test+n_val:]\n\n# Scale data\nscaler = StandardScaler()\nX_data_train=scaler.fit_transform(X_data_train)\nX_data_val = scaler.transform(X_data_val)\nX_data_test = scaler.transform(X_data_test)\n\n# Convert labels to onehot\ny_labels_train = tf.keras.utils.to_categorical(y_labels_train, 5)\ny_labels_val =  tf.keras.utils.to_categorical(y_labels_val, 5)\ny_labels_test =  tf.keras.utils.to_categorical(y_labels_test, 5)\n\ntraining_set = tf.data.Dataset.from_tensor_slices((X_data_train, y_labels_train))",
   "outputs": [],
   "execution_count": null
  },
  {
   "cell_type": "markdown",
   "source": "## Aditional Layers\n\nBefore you get to writing your own neural network we'll show you some examples of additional layers you can potetially add that we didn't go over in the tutorial. After reading over our explanations/example code and going through documentation you'll be testing some of these out by putting together a neural network yourself.",
   "metadata": {
    "id": "riycN8SdyxNT",
    "colab_type": "text",
    "cell_id": "00009-1c8a7d2a-7811-4f8a-9226-c48f8e5237d8",
    "deepnote_cell_type": "markdown",
    "deepnote_cell_height": 175.59375
   }
  },
  {
   "cell_type": "markdown",
   "source": "### Dropout Layers\n\nDropout layers randomly omit, or drop, some elements of the output vector from the layer, which helps prevent overfitting and can improve the generalization of your neural network. The dropout rate can be any number between 0 and 1.\n\nhttps://www.tensorflow.org/api_docs/python/tf/keras/layers/Dropout\n\n```python\n# Example\nd_r = 0.6\ntf.keras.layers.Dropout(rate=d_r)\n```",
   "metadata": {
    "id": "DoaZsqc3iEyv",
    "colab_type": "text",
    "cell_id": "00010-9f515450-95f7-4aa1-ad95-43136c56ddf1",
    "deepnote_cell_type": "markdown",
    "deepnote_cell_height": 282.78125
   }
  },
  {
   "cell_type": "markdown",
   "source": "### Pooling Layers\n\nA pooling layer reduces dimensionality (reducing the size of each feature map) and \"compresses\" information by combining several output elements. Two common functions used for pooling are:\n- Average pooling: calculating the average value for each patch on the feature map\n- Max pooling: calculating the maximum value for each patch of the feature map\n\nhttps://www.tensorflow.org/api_docs/python/tf/keras/layers/MaxPool1D\n\n```python\n# Example\ntf.keras.layers.MaxPool1D(pool_size=1)\n```",
   "metadata": {
    "id": "gVJMrZ09iUgk",
    "colab_type": "text",
    "cell_id": "00011-ad41dfcd-a8ee-4cda-99b9-d7000cb79eef",
    "deepnote_cell_type": "markdown",
    "deepnote_cell_height": 299.78125
   }
  },
  {
   "cell_type": "markdown",
   "source": "### Activation Layers/Functions\n\nAn activation function looks at each \"neuron\" in your neural network and determines whether it should be activated (fired) or not, based on the relevancy of the neuron's input to the model’s predictions. Some different activation functions you could look at are:\n- softmax https://www.tensorflow.org/api_docs/python/tf/keras/layers/Softmax\n- sigmoid https://www.tensorflow.org/api_docs/python/tf/keras/activations/sigmoid\n- softplus https://www.tensorflow.org/api_docs/python/tf/keras/activations/softplus\n- relu https://www.tensorflow.org/api_docs/python/tf/keras/layers/ReLU\n\n```python\n# Example\ntf.keras.layers.Softmax()\n```",
   "metadata": {
    "id": "72ngF_beiaV9",
    "colab_type": "text",
    "cell_id": "00012-c3758dce-6eca-4819-9ad9-008dc63e1437",
    "deepnote_cell_type": "markdown",
    "deepnote_cell_height": 336.578125
   }
  },
  {
   "cell_type": "markdown",
   "source": "### Optimation Functions\n\nOptimation functions\n- Adam https://www.tensorflow.org/api_docs/python/tf/keras/optimizers/Adam\n  - Adam is computationally efficient, has little memory requirement, and is well suited for problems that are large in terms of data/parameter.\n- Adagrad https://www.tensorflow.org/api_docs/python/tf/keras/optimizers/Adagrad\n  - Adagrad is an optimizer that is best used for sparse data. Some of its benefits are that it converges more quickly and doesn't need manual adjustment of the hyperparameter \"learning rate\".\n- SGD https://www.tensorflow.org/api_docs/python/tf/keras/optimizers/SGD\n  - SGD is a stochastic gradient descent and momentum optimizer. SGD essentially helps gradient vectors move down loss functions towards the minimum point, leading to faster \"converging\".\n- RMSprop https://keras.io/api/optimizers/rmsprop/\n  - As you may already know, the learning rate regulates how much the model \ncan change based on the estimated error (which occurs every time the model's weights are updated). Instead of treating the learning rate as a hyperparamter, RMSprop is an optimization technique that uses relies on a changing, adaptive learning rate.\n\n```python\n# Example code\nl_r = .001 \ntf.keras.optimizers.SGD(learning_rate=l_r)\n```",
   "metadata": {
    "id": "zCdxM6HDqR1F",
    "colab_type": "text",
    "cell_id": "00013-1f5b0b3e-e457-4209-9a9a-112f996023f1",
    "deepnote_cell_type": "markdown",
    "deepnote_cell_height": 641.96875
   }
  },
  {
   "cell_type": "markdown",
   "source": "## Putting Together Your Neural Network\n\nNow you will experiment with adding different layers to your neural network. We've added some guiding comments to give you a place to start and test out, but we also strongly encourage you to go through all the documetation and do some googling as well!",
   "metadata": {
    "id": "ldbularZ3cCW",
    "colab_type": "text",
    "cell_id": "00014-6211182f-7d1b-4ac3-b808-dceeec2854d2",
    "deepnote_cell_type": "markdown",
    "deepnote_cell_height": 153.1875
   }
  },
  {
   "cell_type": "code",
   "metadata": {
    "id": "qMp_z7W9vZV4",
    "colab_type": "code",
    "colab": {},
    "cell_id": "00015-8d67a743-3602-4849-a1b6-d2739529b93d",
    "deepnote_to_be_reexecuted": false,
    "source_hash": "5b3437a5",
    "execution_start": 1658352124132,
    "execution_millis": 19,
    "deepnote_cell_type": "code",
    "deepnote_cell_height": 171
   },
   "source": "# Once you've gone through all the tests play around with these rate values to see if you can increase your accuracy\nl_r = .01 \nd_r = 0.02\n\nmodel = tf.keras.Sequential()\nmodel.add(tf.keras.layers.Dense(8, input_shape=(3, )))",
   "outputs": [],
   "execution_count": null
  },
  {
   "cell_type": "markdown",
   "source": "### Test 1",
   "metadata": {
    "id": "8OQKRfNjBWGC",
    "colab_type": "text",
    "cell_id": "00016-b5d68f1f-7a68-4779-81e8-c05448bc7fe5",
    "deepnote_cell_type": "markdown",
    "deepnote_cell_height": 62
   }
  },
  {
   "cell_type": "code",
   "metadata": {
    "id": "BneaEDk-BWj2",
    "colab_type": "code",
    "colab": {},
    "cell_id": "00017-d448865b-b264-4c86-be7e-1e1df93d509f",
    "deepnote_to_be_reexecuted": false,
    "source_hash": "777e8167",
    "execution_start": 1658351216839,
    "execution_millis": 25,
    "deepnote_cell_type": "code",
    "deepnote_cell_height": 243
   },
   "source": "# Run this cell as it is\nmodel.add(tf.keras.layers.Dense(8))\nmodel.add(tf.keras.layers.Dense(8))\n\n# output dimension needs to be number of classes in order for each to get a score\nmodel.add(tf.keras.layers.Dense(5))\n\n# Now skip down to the section that compiles and trains your model and run those cells.\n# Check the pseudo-test accuracy and see how well the bare minimum performed.\n# Accuracy: 0.2080",
   "outputs": [],
   "execution_count": null
  },
  {
   "cell_type": "markdown",
   "source": "### Test 2",
   "metadata": {
    "id": "djwaQho7_xBt",
    "colab_type": "text",
    "cell_id": "00018-76a44762-57bc-4bd1-a0b1-b67a9d3eb3c6",
    "deepnote_cell_type": "markdown",
    "deepnote_cell_height": 62
   }
  },
  {
   "cell_type": "code",
   "metadata": {
    "id": "o2MQzNEa_ViW",
    "colab_type": "code",
    "colab": {},
    "cell_id": "00019-a3a14a8a-3bc8-40d7-8683-cefef9a046fc",
    "deepnote_to_be_reexecuted": false,
    "source_hash": "61a17c2f",
    "execution_start": 1658351812194,
    "execution_millis": 39,
    "deepnote_cell_type": "code",
    "deepnote_cell_height": 279
   },
   "source": "model.add(tf.keras.layers.Activation('relu'))\nmodel.add(tf.keras.layers.Dense(8))\nmodel.add(tf.keras.layers.Activation('sigmoid'))\nmodel.add(tf.keras.layers.Dense(8))\nmodel.add(tf.keras.layers.Activation('softmax'))\n\n# output dimension needs to be number of classes in order for each to get a score\nmodel.add(tf.keras.layers.Dense(5))\nmodel.add(tf.keras.layers.Activation('softmax'))\n\n# Now skip down to the section that compiles and trains your model and re-run those cells.\n# What do you notice about the testing/Validation accuracy after Test 2 in comparison to Test 1?",
   "outputs": [],
   "execution_count": null
  },
  {
   "cell_type": "markdown",
   "source": "### Test 3",
   "metadata": {
    "id": "M_pr4L_0Bzt_",
    "colab_type": "text",
    "cell_id": "00020-dbb95d8c-923b-42e3-8943-654e3eeab7ab",
    "deepnote_cell_type": "markdown",
    "deepnote_cell_height": 62
   }
  },
  {
   "cell_type": "code",
   "metadata": {
    "id": "pb-7sVYkB11c",
    "colab_type": "code",
    "colab": {},
    "cell_id": "00021-1289d3fa-4743-47e0-b873-0040100290ea",
    "deepnote_to_be_reexecuted": false,
    "source_hash": "939fa866",
    "execution_start": 1658352134635,
    "execution_millis": 53,
    "owner_user_id": "d6fb3fa0-1044-4f7b-8ee4-33f1bb732ee6",
    "deepnote_cell_type": "code",
    "deepnote_cell_height": 369,
    "deepnote_output_heights": [
     21.1875
    ]
   },
   "source": "# Add activation layer here\nmodel.add(tf.keras.layers.ReLU())\nmodel.add(tf.keras.layers.Dense(8))\n# Add activation layer here\nmodel.add(tf.keras.layers.ReLU())\nmodel.add(tf.keras.layers.Dense(8))\n# Add activation layer here \nmodel.add(tf.keras.layers.Softmax())\n# output dimension needs to be number of classes in order for each to get a score\nmodel.add(tf.keras.layers.Dense(5))\nmodel.add(tf.keras.layers.Softmax())\n\n# Add dropout layer here\nmodel.add(tf.keras.layers.Dropout(rate= d_r, noise_shape = None, seed = None))\n\n# Now skip down to the section that compiles and trains your model and re-run those cells.\n# What do you notice about the testing/Validation accuracy after Test 2 in comparison to Test 1 & 2?",
   "outputs": [],
   "execution_count": null
  },
  {
   "cell_type": "markdown",
   "source": "### Test 4\n\nNow go back down to the cell where you compiled your model, and this time change the optimizer. It's been set to Adam by default but as we showed you above, there are other functions that you can test out.",
   "metadata": {
    "id": "YwjD-MgMDHFV",
    "colab_type": "text",
    "cell_id": "00022-baac732a-6a35-4603-966b-fa5c2ba4044a",
    "deepnote_cell_type": "markdown",
    "deepnote_cell_height": 145.1875
   }
  },
  {
   "cell_type": "markdown",
   "source": "## Compiling and Training Your Model",
   "metadata": {
    "id": "Qhna7lr5Dm56",
    "colab_type": "text",
    "cell_id": "00023-8b3f5b0e-3f84-4111-809a-99d814dbe0aa",
    "deepnote_cell_type": "markdown",
    "deepnote_cell_height": 70
   }
  },
  {
   "cell_type": "code",
   "metadata": {
    "id": "XB1qNpsoASGv",
    "colab_type": "code",
    "colab": {},
    "cell_id": "00024-10b0179c-663a-40cd-9e08-bcec971ebf36",
    "deepnote_to_be_reexecuted": false,
    "source_hash": "ad2d3531",
    "execution_start": 1658352140284,
    "execution_millis": 14,
    "deepnote_cell_type": "code",
    "deepnote_cell_height": 117
   },
   "source": "model.compile(loss = tf.keras.losses.categorical_crossentropy, \n              optimizer = tf.keras.optimizers.Adam(learning_rate=l_r),\n              metrics = ['accuracy'])   ",
   "outputs": [],
   "execution_count": null
  },
  {
   "cell_type": "code",
   "source": "model.summary()",
   "metadata": {
    "cell_id": "299944b72abc4088be12c2574df155c4",
    "tags": [],
    "deepnote_to_be_reexecuted": false,
    "source_hash": "4e6a3b95",
    "execution_start": 1658351999065,
    "execution_millis": 23,
    "deepnote_cell_type": "code",
    "deepnote_cell_height": 584.375
   },
   "outputs": [
    {
     "name": "stdout",
     "text": "Model: \"sequential_10\"\n_________________________________________________________________\n Layer (type)                Output Shape              Param #   \n=================================================================\n dense_49 (Dense)            (None, 8)                 32        \n                                                                 \n re_lu_8 (ReLU)              (None, 8)                 0         \n                                                                 \n dense_50 (Dense)            (None, 8)                 72        \n                                                                 \n re_lu_9 (ReLU)              (None, 8)                 0         \n                                                                 \n dense_51 (Dense)            (None, 8)                 72        \n                                                                 \n softmax_1 (Softmax)         (None, 8)                 0         \n                                                                 \n dense_52 (Dense)            (None, 5)                 45        \n                                                                 \n dropout_3 (Dropout)         (None, 5)                 0         \n                                                                 \n=================================================================\nTotal params: 221\nTrainable params: 221\nNon-trainable params: 0\n_________________________________________________________________\n",
     "output_type": "stream"
    }
   ],
   "execution_count": null
  },
  {
   "cell_type": "markdown",
   "source": "Fit Model to Data, Specify Number of Epochs and Batch Size:",
   "metadata": {
    "id": "Tj1lwAY7BJPk",
    "colab_type": "text",
    "cell_id": "00025-7d1d60fd-a9a6-455e-852c-648a08c9cf69",
    "deepnote_cell_type": "markdown",
    "deepnote_cell_height": 52.390625
   }
  },
  {
   "cell_type": "code",
   "metadata": {
    "id": "uF2RT0eGBIlD",
    "colab_type": "code",
    "colab": {},
    "cell_id": "00026-1672840d-7dfe-435b-92c3-a0e996e15d4a",
    "deepnote_to_be_reexecuted": false,
    "source_hash": "6de8a191",
    "execution_start": 1658352142534,
    "execution_millis": 13252,
    "deepnote_cell_type": "code",
    "deepnote_cell_height": 917
   },
   "source": "epochs = 50\nbatch_size = 100\n\ntraining_set = training_set.batch(batch_size) #set batch size\n\nfor epoch in range(epochs):\n    for signals, labels in training_set:\n        tr_loss, tr_accuracy = model.train_on_batch(signals, labels)\n    val_loss, val_accuracy = model.evaluate(X_data_val, y_labels_val)\n    print(('Epoch #%d\\t Training Loss: %.2f\\tTraining Accuracy: %.2f\\t'\n         'Validation Loss: %.2f\\tValidation Accuracy: %.2f')\n         % (epoch + 1, tr_loss, tr_accuracy,\n         val_loss, val_accuracy))",
   "outputs": [
    {
     "name": "stdout",
     "text": "8/8 [==============================] - 0s 2ms/step - loss: 1.5123 - accuracy: 0.3560\nEpoch #1\t Training Loss: 1.66\tTraining Accuracy: 0.38\tValidation Loss: 1.51\tValidation Accuracy: 0.36\n8/8 [==============================] - 0s 2ms/step - loss: 1.4548 - accuracy: 0.4440\nEpoch #2\t Training Loss: 2.04\tTraining Accuracy: 0.39\tValidation Loss: 1.45\tValidation Accuracy: 0.44\n8/8 [==============================] - 0s 2ms/step - loss: 1.3638 - accuracy: 0.4760\nEpoch #3\t Training Loss: 2.07\tTraining Accuracy: 0.45\tValidation Loss: 1.36\tValidation Accuracy: 0.48\n8/8 [==============================] - 0s 4ms/step - loss: 1.2839 - accuracy: 0.5160\nEpoch #4\t Training Loss: 1.69\tTraining Accuracy: 0.50\tValidation Loss: 1.28\tValidation Accuracy: 0.52\n8/8 [==============================] - 0s 2ms/step - loss: 1.2361 - accuracy: 0.4840\nEpoch #5\t Training Loss: 1.65\tTraining Accuracy: 0.51\tValidation Loss: 1.24\tValidation Accuracy: 0.48\n8/8 [==============================] - 0s 2ms/step - loss: 1.2058 - accuracy: 0.4920\nEpoch #6\t Training Loss: 1.35\tTraining Accuracy: 0.49\tValidation Loss: 1.21\tValidation Accuracy: 0.49\n8/8 [==============================] - 0s 2ms/step - loss: 1.1743 - accuracy: 0.4800\nEpoch #7\t Training Loss: 1.20\tTraining Accuracy: 0.47\tValidation Loss: 1.17\tValidation Accuracy: 0.48\n8/8 [==============================] - 0s 2ms/step - loss: 1.1530 - accuracy: 0.4880\nEpoch #8\t Training Loss: 1.78\tTraining Accuracy: 0.43\tValidation Loss: 1.15\tValidation Accuracy: 0.49\n8/8 [==============================] - 0s 3ms/step - loss: 1.1366 - accuracy: 0.4960\nEpoch #9\t Training Loss: 1.17\tTraining Accuracy: 0.46\tValidation Loss: 1.14\tValidation Accuracy: 0.50\n8/8 [==============================] - 0s 2ms/step - loss: 1.1183 - accuracy: 0.4880\nEpoch #10\t Training Loss: 1.78\tTraining Accuracy: 0.44\tValidation Loss: 1.12\tValidation Accuracy: 0.49\n8/8 [==============================] - 0s 2ms/step - loss: 1.1019 - accuracy: 0.5000\nEpoch #11\t Training Loss: 1.46\tTraining Accuracy: 0.49\tValidation Loss: 1.10\tValidation Accuracy: 0.50\n8/8 [==============================] - 0s 2ms/step - loss: 1.0910 - accuracy: 0.5240\nEpoch #12\t Training Loss: 1.42\tTraining Accuracy: 0.47\tValidation Loss: 1.09\tValidation Accuracy: 0.52\n8/8 [==============================] - 0s 2ms/step - loss: 1.0810 - accuracy: 0.5240\nEpoch #13\t Training Loss: 1.71\tTraining Accuracy: 0.46\tValidation Loss: 1.08\tValidation Accuracy: 0.52\n8/8 [==============================] - 0s 2ms/step - loss: 1.0707 - accuracy: 0.5240\nEpoch #14\t Training Loss: 1.85\tTraining Accuracy: 0.45\tValidation Loss: 1.07\tValidation Accuracy: 0.52\n8/8 [==============================] - 0s 2ms/step - loss: 1.0601 - accuracy: 0.5400\nEpoch #15\t Training Loss: 1.25\tTraining Accuracy: 0.50\tValidation Loss: 1.06\tValidation Accuracy: 0.54\n8/8 [==============================] - 0s 2ms/step - loss: 1.0546 - accuracy: 0.5360\nEpoch #16\t Training Loss: 1.25\tTraining Accuracy: 0.47\tValidation Loss: 1.05\tValidation Accuracy: 0.54\n8/8 [==============================] - 0s 2ms/step - loss: 1.0476 - accuracy: 0.5520\nEpoch #17\t Training Loss: 1.39\tTraining Accuracy: 0.50\tValidation Loss: 1.05\tValidation Accuracy: 0.55\n8/8 [==============================] - 0s 2ms/step - loss: 1.0405 - accuracy: 0.5520\nEpoch #18\t Training Loss: 1.49\tTraining Accuracy: 0.54\tValidation Loss: 1.04\tValidation Accuracy: 0.55\n8/8 [==============================] - 0s 2ms/step - loss: 1.0306 - accuracy: 0.5440\nEpoch #19\t Training Loss: 1.21\tTraining Accuracy: 0.55\tValidation Loss: 1.03\tValidation Accuracy: 0.54\n8/8 [==============================] - 0s 2ms/step - loss: 1.0224 - accuracy: 0.5640\nEpoch #20\t Training Loss: 1.05\tTraining Accuracy: 0.52\tValidation Loss: 1.02\tValidation Accuracy: 0.56\n8/8 [==============================] - 0s 2ms/step - loss: 1.0217 - accuracy: 0.5600\nEpoch #21\t Training Loss: 1.19\tTraining Accuracy: 0.55\tValidation Loss: 1.02\tValidation Accuracy: 0.56\n8/8 [==============================] - 0s 2ms/step - loss: 1.0201 - accuracy: 0.5760\nEpoch #22\t Training Loss: 1.34\tTraining Accuracy: 0.55\tValidation Loss: 1.02\tValidation Accuracy: 0.58\n8/8 [==============================] - 0s 2ms/step - loss: 1.0095 - accuracy: 0.5920\nEpoch #23\t Training Loss: 1.32\tTraining Accuracy: 0.54\tValidation Loss: 1.01\tValidation Accuracy: 0.59\n8/8 [==============================] - 0s 2ms/step - loss: 1.0139 - accuracy: 0.5880\nEpoch #24\t Training Loss: 1.18\tTraining Accuracy: 0.56\tValidation Loss: 1.01\tValidation Accuracy: 0.59\n8/8 [==============================] - 0s 2ms/step - loss: 1.0088 - accuracy: 0.5880\nEpoch #25\t Training Loss: 1.02\tTraining Accuracy: 0.57\tValidation Loss: 1.01\tValidation Accuracy: 0.59\n8/8 [==============================] - 0s 2ms/step - loss: 0.9992 - accuracy: 0.5880\nEpoch #26\t Training Loss: 1.02\tTraining Accuracy: 0.53\tValidation Loss: 1.00\tValidation Accuracy: 0.59\n8/8 [==============================] - 0s 2ms/step - loss: 1.0042 - accuracy: 0.5760\nEpoch #27\t Training Loss: 1.30\tTraining Accuracy: 0.53\tValidation Loss: 1.00\tValidation Accuracy: 0.58\n8/8 [==============================] - 0s 2ms/step - loss: 0.9986 - accuracy: 0.5880\nEpoch #28\t Training Loss: 1.46\tTraining Accuracy: 0.51\tValidation Loss: 1.00\tValidation Accuracy: 0.59\n8/8 [==============================] - 0s 2ms/step - loss: 1.0038 - accuracy: 0.5680\nEpoch #29\t Training Loss: 1.16\tTraining Accuracy: 0.53\tValidation Loss: 1.00\tValidation Accuracy: 0.57\n8/8 [==============================] - 0s 2ms/step - loss: 0.9958 - accuracy: 0.5880\nEpoch #30\t Training Loss: 1.15\tTraining Accuracy: 0.54\tValidation Loss: 1.00\tValidation Accuracy: 0.59\n8/8 [==============================] - 0s 2ms/step - loss: 0.9858 - accuracy: 0.5800\nEpoch #31\t Training Loss: 1.59\tTraining Accuracy: 0.53\tValidation Loss: 0.99\tValidation Accuracy: 0.58\n8/8 [==============================] - 0s 2ms/step - loss: 0.9911 - accuracy: 0.5840\nEpoch #32\t Training Loss: 1.12\tTraining Accuracy: 0.55\tValidation Loss: 0.99\tValidation Accuracy: 0.58\n8/8 [==============================] - 0s 4ms/step - loss: 0.9863 - accuracy: 0.5840\nEpoch #33\t Training Loss: 1.27\tTraining Accuracy: 0.54\tValidation Loss: 0.99\tValidation Accuracy: 0.58\n8/8 [==============================] - 0s 2ms/step - loss: 0.9906 - accuracy: 0.5840\nEpoch #34\t Training Loss: 1.71\tTraining Accuracy: 0.54\tValidation Loss: 0.99\tValidation Accuracy: 0.58\n8/8 [==============================] - 0s 2ms/step - loss: 0.9865 - accuracy: 0.5880\nEpoch #35\t Training Loss: 1.29\tTraining Accuracy: 0.53\tValidation Loss: 0.99\tValidation Accuracy: 0.59\n8/8 [==============================] - 0s 3ms/step - loss: 0.9859 - accuracy: 0.5840\nEpoch #36\t Training Loss: 1.57\tTraining Accuracy: 0.52\tValidation Loss: 0.99\tValidation Accuracy: 0.58\n8/8 [==============================] - 0s 2ms/step - loss: 0.9901 - accuracy: 0.5880\nEpoch #37\t Training Loss: 1.39\tTraining Accuracy: 0.54\tValidation Loss: 0.99\tValidation Accuracy: 0.59\n8/8 [==============================] - 0s 2ms/step - loss: 0.9832 - accuracy: 0.5840\nEpoch #38\t Training Loss: 1.12\tTraining Accuracy: 0.53\tValidation Loss: 0.98\tValidation Accuracy: 0.58\n8/8 [==============================] - 0s 1ms/step - loss: 0.9782 - accuracy: 0.6000\nEpoch #39\t Training Loss: 1.88\tTraining Accuracy: 0.51\tValidation Loss: 0.98\tValidation Accuracy: 0.60\n8/8 [==============================] - 0s 1ms/step - loss: 0.9777 - accuracy: 0.6080\nEpoch #40\t Training Loss: 2.19\tTraining Accuracy: 0.49\tValidation Loss: 0.98\tValidation Accuracy: 0.61\n8/8 [==============================] - 0s 3ms/step - loss: 0.9796 - accuracy: 0.6040\nEpoch #41\t Training Loss: 1.11\tTraining Accuracy: 0.54\tValidation Loss: 0.98\tValidation Accuracy: 0.60\n8/8 [==============================] - 0s 2ms/step - loss: 0.9750 - accuracy: 0.6000\nEpoch #42\t Training Loss: 1.43\tTraining Accuracy: 0.55\tValidation Loss: 0.97\tValidation Accuracy: 0.60\n8/8 [==============================] - 0s 2ms/step - loss: 0.9809 - accuracy: 0.6160\nEpoch #43\t Training Loss: 1.27\tTraining Accuracy: 0.54\tValidation Loss: 0.98\tValidation Accuracy: 0.62\n8/8 [==============================] - 0s 3ms/step - loss: 0.9705 - accuracy: 0.6160\nEpoch #44\t Training Loss: 1.26\tTraining Accuracy: 0.54\tValidation Loss: 0.97\tValidation Accuracy: 0.62\n8/8 [==============================] - 0s 3ms/step - loss: 0.9736 - accuracy: 0.6080\nEpoch #45\t Training Loss: 1.72\tTraining Accuracy: 0.53\tValidation Loss: 0.97\tValidation Accuracy: 0.61\n8/8 [==============================] - 0s 4ms/step - loss: 0.9676 - accuracy: 0.6080\nEpoch #46\t Training Loss: 1.11\tTraining Accuracy: 0.54\tValidation Loss: 0.97\tValidation Accuracy: 0.61\n8/8 [==============================] - 0s 3ms/step - loss: 0.9718 - accuracy: 0.6080\nEpoch #47\t Training Loss: 1.09\tTraining Accuracy: 0.57\tValidation Loss: 0.97\tValidation Accuracy: 0.61\n8/8 [==============================] - 0s 5ms/step - loss: 0.9728 - accuracy: 0.6080\nEpoch #48\t Training Loss: 1.59\tTraining Accuracy: 0.52\tValidation Loss: 0.97\tValidation Accuracy: 0.61\n8/8 [==============================] - 0s 3ms/step - loss: 0.9761 - accuracy: 0.6080\nEpoch #49\t Training Loss: 0.95\tTraining Accuracy: 0.55\tValidation Loss: 0.98\tValidation Accuracy: 0.61\n8/8 [==============================] - 0s 1ms/step - loss: 0.9713 - accuracy: 0.6120\nEpoch #50\t Training Loss: 1.40\tTraining Accuracy: 0.53\tValidation Loss: 0.97\tValidation Accuracy: 0.61\n",
     "output_type": "stream"
    }
   ],
   "execution_count": null
  },
  {
   "cell_type": "code",
   "metadata": {
    "id": "4GipGyEkBQdj",
    "colab_type": "code",
    "colab": {},
    "cell_id": "00027-0effc311-16ef-4ed2-a0ff-cb685146fcb8",
    "deepnote_to_be_reexecuted": false,
    "source_hash": "29dc4eb9",
    "execution_start": 1658352428028,
    "execution_millis": 39,
    "owner_user_id": "b55e2086-05ad-4387-a33c-7824764ad5c7",
    "deepnote_cell_type": "code",
    "deepnote_cell_height": 129.6875
   },
   "source": "#Check Performance on Test Set\ntest_loss, test_accuracy = model.evaluate(X_data_test, y_labels_test)",
   "outputs": [
    {
     "name": "stdout",
     "text": "8/8 [==============================] - 0s 2ms/step - loss: 1.0262 - accuracy: 0.5680\n",
     "output_type": "stream"
    }
   ],
   "execution_count": null
  },
  {
   "cell_type": "markdown",
   "source": "Now modify the existing model even more, and try to find the highest and appropriate testing and validation accuracy!",
   "metadata": {
    "id": "maTNvEQpbkoS",
    "colab_type": "text",
    "cell_id": "00028-80bdaa40-1cb1-4d44-9c68-0c46fac32489",
    "deepnote_cell_type": "markdown",
    "deepnote_cell_height": 74.796875
   }
  },
  {
   "cell_type": "markdown",
   "source": "<a style='text-decoration:none;line-height:16px;display:flex;color:#5B5B62;padding:10px;justify-content:end;' href='https://deepnote.com?utm_source=created-in-deepnote-cell&projectId=d6e67ee5-2378-4925-8c63-add9cbe5008e' target=\"_blank\">\n<img alt='Created in deepnote.com' style='display:inline;max-height:16px;margin:0px;margin-right:7.5px;' src='data:image/svg+xml;base64,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' > </img>\nCreated in <span style='font-weight:600;margin-left:4px;'>Deepnote</span></a>",
   "metadata": {
    "tags": [],
    "created_in_deepnote_cell": true,
    "deepnote_cell_type": "markdown"
   }
  }
 ],
 "nbformat": 4,
 "nbformat_minor": 0,
 "metadata": {
  "colab": {
   "name": "NeuralNetworks_Exercises.ipynb",
   "provenance": [],
   "collapsed_sections": []
  },
  "kernelspec": {
   "name": "python3",
   "display_name": "Python 3"
  },
  "deepnote_notebook_id": "36851e3b-2819-43d4-a00e-cb2883a7033e",
  "deepnote": {},
  "deepnote_execution_queue": []
 }
}